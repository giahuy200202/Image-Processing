{
 "cells": [
  {
   "cell_type": "markdown",
   "metadata": {},
   "source": [
    "**INFORMATION**\n",
    "* **ID:** 20127039\n",
    "* **Name:** Tran Dam Gia Huy\n",
    "* **Class:** 20CLC08"
   ]
  },
  {
   "cell_type": "markdown",
   "metadata": {},
   "source": [
    "**IMPORT LIBRARY**\n"
   ]
  },
  {
   "cell_type": "code",
   "execution_count": 1,
   "metadata": {},
   "outputs": [],
   "source": [
    "import matplotlib.pyplot as plt\n",
    "import numpy as np\n",
    "from PIL import Image\n",
    "import math\n"
   ]
  },
  {
   "cell_type": "markdown",
   "metadata": {},
   "source": [
    "**IMAGE HANDLE**"
   ]
  },
  {
   "cell_type": "code",
   "execution_count": 2,
   "metadata": {},
   "outputs": [],
   "source": [
    "def ReadImage(imgName):\n",
    "    imgOrg=Image.open(imgName)\n",
    "    return imgOrg\n",
    "\n",
    "def ImageToArray(imgName):\n",
    "    return np.array(imgName)\n"
   ]
  },
  {
   "cell_type": "markdown",
   "metadata": {},
   "source": [
    "**BRIGHTNESS CONVERSION**"
   ]
  },
  {
   "cell_type": "code",
   "execution_count": 3,
   "metadata": {},
   "outputs": [],
   "source": [
    "def Brightness(img, brightRatio):\n",
    "    imgResult = img.copy()\n",
    "    for i in range (img.shape[0]):\n",
    "        for j in range(img.shape[1]):\n",
    "            imgResult[i][j] = [max(0, min(255, int(value+brightRatio))) for value in img[i][j]]\n",
    "    return imgResult"
   ]
  },
  {
   "cell_type": "markdown",
   "metadata": {},
   "source": [
    "**CONTRAST CONVERSION**"
   ]
  },
  {
   "cell_type": "code",
   "execution_count": 4,
   "metadata": {},
   "outputs": [],
   "source": [
    "def Contrast(img, contrastRatio):\n",
    "    imgResult = img.copy()\n",
    "    Formula = ( 259*(contrastRatio+255) ) / ( 255*(259-contrastRatio) )\n",
    "    for i in range (img.shape[0]):\n",
    "        for j in range(img.shape[1]):\n",
    "            imgResult[i][j] = [max(0, min(255, int(128 + Formula*(value-128)))) for value in img[i][j]]\n",
    "    return imgResult"
   ]
  },
  {
   "cell_type": "markdown",
   "metadata": {},
   "source": [
    "**GRAYSCALE CONVERSION**"
   ]
  },
  {
   "cell_type": "code",
   "execution_count": 5,
   "metadata": {},
   "outputs": [],
   "source": [
    "def GrayScale(img, mode):\n",
    "    imgResult = img.copy()\n",
    "    # Weighted method\n",
    "    if(mode==1):\n",
    "        for i in range (img.shape[0]):\n",
    "            for j in range(img.shape[1]):\n",
    "                imgResult[i][j][0] = imgResult[i][j][1] = imgResult[i][j][2] = img[i][j][0]*0.3 + img[i][j][1]*0.59 + img[i][j][2]*0.11\n",
    "    # Average method\n",
    "    else:\n",
    "        for i in range (img.shape[0]):\n",
    "            for j in range(img.shape[1]):\n",
    "                imgResult[i][j][0] = imgResult[i][j][1] = imgResult[i][j][2] = (img[i][j][0]+ img[i][j][1] + img[i][j][2])/3\n",
    "    return imgResult"
   ]
  },
  {
   "cell_type": "markdown",
   "metadata": {},
   "source": [
    "**FLIP CONVERSION**"
   ]
  },
  {
   "cell_type": "code",
   "execution_count": 6,
   "metadata": {},
   "outputs": [],
   "source": [
    "def Flip(img, mode):\n",
    "\n",
    "    imgResult = img.copy()\n",
    "\n",
    "    # Horizontal flip\n",
    "    if(mode == 1):\n",
    "        for i in range (img.shape[0]):\n",
    "            index_col = 0\n",
    "            for j in range(img.shape[1]-1, -1, -1):\n",
    "                imgResult[i][index_col]=img[i][j]\n",
    "                index_col+=1\n",
    "\n",
    "    # Vertical flip\n",
    "    if(mode == 2):\n",
    "        for i in range (img.shape[1]):\n",
    "            index_row = 0\n",
    "            for j in range(img.shape[0]-1, -1, -1):\n",
    "                imgResult[index_row][i]=img[j][i]\n",
    "                index_row+=1\n",
    "\n",
    "    return imgResult"
   ]
  },
  {
   "cell_type": "markdown",
   "metadata": {},
   "source": [
    "**COMBINE IMAGE**"
   ]
  },
  {
   "cell_type": "code",
   "execution_count": 7,
   "metadata": {},
   "outputs": [],
   "source": [
    "def Combine(img1, img2):\n",
    "    imgResult = img1.copy()\n",
    "    for i in range (img1.shape[0]):\n",
    "        for j in range(img1.shape[1]):\n",
    "            imgResult[i][j] +=img2[i][j]\n",
    "    return imgResult "
   ]
  },
  {
   "cell_type": "markdown",
   "metadata": {},
   "source": [
    "**BLUR IMAGE**"
   ]
  },
  {
   "cell_type": "code",
   "execution_count": 8,
   "metadata": {},
   "outputs": [],
   "source": [
    "def BoxBlur(img):\n",
    "    imgResult = img.copy()\n",
    "\n",
    "    areaMatrix = np.array( [ [[0,0,0] for _ in range(img.shape[1])] for _ in range(img.shape[0])] )\n",
    "    for i in range(0, img.shape[0]):\n",
    "        for j in range(0, img.shape[1]):\n",
    "            if(i==0 and j==0): areaMatrix[i][j] = img[i][j]\n",
    "            if(i==0 and j!=0): areaMatrix[i][j] = img[i][j] + areaMatrix[i][j-1]\n",
    "            if(i!=0 and j==0): areaMatrix[i][j] = img[i][j] + areaMatrix[i-1][j]\n",
    "            if(i!=0 and j!=0): areaMatrix[i][j] = img[i][j] + areaMatrix[i-1][j] + areaMatrix[i][j-1] - areaMatrix[i-1][j-1] \n",
    "\n",
    "    for i in range (2, img.shape[0]-1):\n",
    "        for j in range(2, img.shape[1]-1):\n",
    "            imgResult[i][j] = (areaMatrix[i+1][j+1] + areaMatrix[i-2][j-2] - areaMatrix[i+1][j-2] - areaMatrix[i-2][j+1])/9\n",
    "    \n",
    "    return imgResult\n"
   ]
  },
  {
   "cell_type": "markdown",
   "metadata": {},
   "source": [
    "**CIRCLE FRAME**"
   ]
  },
  {
   "cell_type": "code",
   "execution_count": 9,
   "metadata": {},
   "outputs": [],
   "source": [
    "def CircleFrame(img):\n",
    "    imgResult = img.copy()\n",
    "    center = [img.shape[0]/2, img.shape[1]/2]\n",
    "    radius = min(img.shape[0], img.shape[1])/2\n",
    "    for i in range(0, img.shape[0]):\n",
    "        for j in range(0, img.shape[1]):\n",
    "            if( (i-center[0])**2 + (j-center[1])**2 > radius**2 ):\n",
    "                imgResult[i][j] = [0,0,0]\n",
    "    return imgResult"
   ]
  },
  {
   "cell_type": "markdown",
   "metadata": {},
   "source": [
    "**ECLIPSE FRAME**"
   ]
  },
  {
   "cell_type": "code",
   "execution_count": 10,
   "metadata": {},
   "outputs": [],
   "source": [
    "def EclipseFrame(img):\n",
    "    imgResult = img.copy()\n",
    "    center = [img.shape[0]/2, img.shape[1]/2]\n",
    "    a=min(img.shape[0],img.shape[1])*45/128\n",
    "    b=a*math.sqrt(3)\n",
    "    for i in range(0, img.shape[0]):\n",
    "        for j in range(0, img.shape[1]):\n",
    "            eclipse_1 = (((i-center[0])*math.cos(3*math.pi/4) + (j-center[1])*math.sin(3*math.pi/4))**2)/(a**2) + (((i-center[0])*math.sin(3*math.pi/4) - (j-center[1])*math.cos(3*math.pi/4))**2)/(b**2)\n",
    "            eclipse_2 = (((i-center[0])*math.cos(math.pi/4) + (j-center[1])*math.sin(math.pi/4))**2/(a**2)) + (((i-center[0])*math.sin(math.pi/4) - (j-center[1])*math.cos(math.pi/4))**2/(b**2))\n",
    "            if(eclipse_1 > 1 and eclipse_2 > 1):\n",
    "                imgResult[i][j] = [0,0,0]\n",
    "    return imgResult          \n"
   ]
  },
  {
   "cell_type": "markdown",
   "metadata": {},
   "source": [
    "**MAIN PROGRAM**\n"
   ]
  },
  {
   "cell_type": "code",
   "execution_count": 11,
   "metadata": {},
   "outputs": [
    {
     "ename": "KeyboardInterrupt",
     "evalue": "Interrupted by user",
     "output_type": "error",
     "traceback": [
      "\u001b[1;31m---------------------------------------------------------------------------\u001b[0m",
      "\u001b[1;31mKeyboardInterrupt\u001b[0m                         Traceback (most recent call last)",
      "\u001b[1;32me:\\LƯU VÀO ĐÂY\\20127039\\20127039.ipynb Cell 23'\u001b[0m in \u001b[0;36m<cell line: 112>\u001b[1;34m()\u001b[0m\n\u001b[0;32m    <a href='vscode-notebook-cell:/e%3A/L%C6%AFU%20V%C3%80O%20%C4%90%C3%82Y/20127039/20127039.ipynb#ch0000022?line=107'>108</a>\u001b[0m         \u001b[39m#Exit\u001b[39;00m\n\u001b[0;32m    <a href='vscode-notebook-cell:/e%3A/L%C6%AFU%20V%C3%80O%20%C4%90%C3%82Y/20127039/20127039.ipynb#ch0000022?line=108'>109</a>\u001b[0m         \u001b[39melse\u001b[39;00m: \u001b[39mbreak\u001b[39;00m\n\u001b[1;32m--> <a href='vscode-notebook-cell:/e%3A/L%C6%AFU%20V%C3%80O%20%C4%90%C3%82Y/20127039/20127039.ipynb#ch0000022?line=111'>112</a>\u001b[0m main()\n",
      "\u001b[1;32me:\\LƯU VÀO ĐÂY\\20127039\\20127039.ipynb Cell 23'\u001b[0m in \u001b[0;36mmain\u001b[1;34m()\u001b[0m\n\u001b[0;32m      <a href='vscode-notebook-cell:/e%3A/L%C6%AFU%20V%C3%80O%20%C4%90%C3%82Y/20127039/20127039.ipynb#ch0000022?line=0'>1</a>\u001b[0m \u001b[39mdef\u001b[39;00m \u001b[39mmain\u001b[39m():\n\u001b[0;32m      <a href='vscode-notebook-cell:/e%3A/L%C6%AFU%20V%C3%80O%20%C4%90%C3%82Y/20127039/20127039.ipynb#ch0000022?line=1'>2</a>\u001b[0m \n\u001b[0;32m      <a href='vscode-notebook-cell:/e%3A/L%C6%AFU%20V%C3%80O%20%C4%90%C3%82Y/20127039/20127039.ipynb#ch0000022?line=2'>3</a>\u001b[0m     \u001b[39m# Input \u001b[39;00m\n\u001b[1;32m----> <a href='vscode-notebook-cell:/e%3A/L%C6%AFU%20V%C3%80O%20%C4%90%C3%82Y/20127039/20127039.ipynb#ch0000022?line=3'>4</a>\u001b[0m     imgName \u001b[39m=\u001b[39m \u001b[39minput\u001b[39;49m(\u001b[39m'\u001b[39;49m\u001b[39mEnter image name: \u001b[39;49m\u001b[39m'\u001b[39;49m)\n\u001b[0;32m      <a href='vscode-notebook-cell:/e%3A/L%C6%AFU%20V%C3%80O%20%C4%90%C3%82Y/20127039/20127039.ipynb#ch0000022?line=5'>6</a>\u001b[0m     \u001b[39m# Read image\u001b[39;00m\n\u001b[0;32m      <a href='vscode-notebook-cell:/e%3A/L%C6%AFU%20V%C3%80O%20%C4%90%C3%82Y/20127039/20127039.ipynb#ch0000022?line=6'>7</a>\u001b[0m     imgOrg \u001b[39m=\u001b[39m ReadImage(imgName)\n",
      "File \u001b[1;32mc:\\Users\\Gia Huy\\AppData\\Local\\Programs\\Python\\Python39\\lib\\site-packages\\ipykernel\\kernelbase.py:1177\u001b[0m, in \u001b[0;36mKernel.raw_input\u001b[1;34m(self, prompt)\u001b[0m\n\u001b[0;32m   1173\u001b[0m \u001b[39mif\u001b[39;00m \u001b[39mnot\u001b[39;00m \u001b[39mself\u001b[39m\u001b[39m.\u001b[39m_allow_stdin:\n\u001b[0;32m   1174\u001b[0m     \u001b[39mraise\u001b[39;00m StdinNotImplementedError(\n\u001b[0;32m   1175\u001b[0m         \u001b[39m\"\u001b[39m\u001b[39mraw_input was called, but this frontend does not support input requests.\u001b[39m\u001b[39m\"\u001b[39m\n\u001b[0;32m   1176\u001b[0m     )\n\u001b[1;32m-> 1177\u001b[0m \u001b[39mreturn\u001b[39;00m \u001b[39mself\u001b[39;49m\u001b[39m.\u001b[39;49m_input_request(\n\u001b[0;32m   1178\u001b[0m     \u001b[39mstr\u001b[39;49m(prompt),\n\u001b[0;32m   1179\u001b[0m     \u001b[39mself\u001b[39;49m\u001b[39m.\u001b[39;49m_parent_ident[\u001b[39m\"\u001b[39;49m\u001b[39mshell\u001b[39;49m\u001b[39m\"\u001b[39;49m],\n\u001b[0;32m   1180\u001b[0m     \u001b[39mself\u001b[39;49m\u001b[39m.\u001b[39;49mget_parent(\u001b[39m\"\u001b[39;49m\u001b[39mshell\u001b[39;49m\u001b[39m\"\u001b[39;49m),\n\u001b[0;32m   1181\u001b[0m     password\u001b[39m=\u001b[39;49m\u001b[39mFalse\u001b[39;49;00m,\n\u001b[0;32m   1182\u001b[0m )\n",
      "File \u001b[1;32mc:\\Users\\Gia Huy\\AppData\\Local\\Programs\\Python\\Python39\\lib\\site-packages\\ipykernel\\kernelbase.py:1219\u001b[0m, in \u001b[0;36mKernel._input_request\u001b[1;34m(self, prompt, ident, parent, password)\u001b[0m\n\u001b[0;32m   1216\u001b[0m             \u001b[39mbreak\u001b[39;00m\n\u001b[0;32m   1217\u001b[0m \u001b[39mexcept\u001b[39;00m \u001b[39mKeyboardInterrupt\u001b[39;00m:\n\u001b[0;32m   1218\u001b[0m     \u001b[39m# re-raise KeyboardInterrupt, to truncate traceback\u001b[39;00m\n\u001b[1;32m-> 1219\u001b[0m     \u001b[39mraise\u001b[39;00m \u001b[39mKeyboardInterrupt\u001b[39;00m(\u001b[39m\"\u001b[39m\u001b[39mInterrupted by user\u001b[39m\u001b[39m\"\u001b[39m) \u001b[39mfrom\u001b[39;00m \u001b[39mNone\u001b[39m\n\u001b[0;32m   1220\u001b[0m \u001b[39mexcept\u001b[39;00m \u001b[39mException\u001b[39;00m:\n\u001b[0;32m   1221\u001b[0m     \u001b[39mself\u001b[39m\u001b[39m.\u001b[39mlog\u001b[39m.\u001b[39mwarning(\u001b[39m\"\u001b[39m\u001b[39mInvalid Message:\u001b[39m\u001b[39m\"\u001b[39m, exc_info\u001b[39m=\u001b[39m\u001b[39mTrue\u001b[39;00m)\n",
      "\u001b[1;31mKeyboardInterrupt\u001b[0m: Interrupted by user"
     ]
    }
   ],
   "source": [
    "def main():\n",
    "\n",
    "    # Input \n",
    "    imgName = input('Enter image name: ')\n",
    "    \n",
    "    # Read image\n",
    "    imgOrg = ReadImage(imgName)\n",
    "    imgArr = ImageToArray(imgOrg)\n",
    "\n",
    "    while True:\n",
    "        # Input \n",
    "        choose = int(input('Enter choose ( 0 -> 8, another is exit ): '))\n",
    "\n",
    "        # ALl features\n",
    "        if(choose==0):\n",
    "\n",
    "            imgBrightness = Brightness(imgArr, 50)\n",
    "            Image.fromarray(imgBrightness.astype(np.uint8)).save(f'{imgName.split(\".\")[0]}_bright.png')    \n",
    "            \n",
    "            imgContrast = Contrast(imgArr, 50)\n",
    "            Image.fromarray(imgContrast.astype(np.uint8)).save(f'{imgName.split(\".\")[0]}_contrast.png')      \n",
    "\n",
    "            imgGrayScale = GrayScale(imgArr,1)\n",
    "            Image.fromarray(imgGrayScale.astype(np.uint8)).save(f'{imgName.split(\".\")[0]}_gray.png')   \n",
    "\n",
    "            while True:\n",
    "                mode = int(input('Input mode ( 1.Horizontal, 2.Vertial ): '))\n",
    "                if(mode==1 or mode==2): break\n",
    "            imgFlip = Flip(imgArr, mode)\n",
    "            Image.fromarray(imgFlip.astype(np.uint8)).save(f'{imgName.split(\".\")[0]}_flip.png')\n",
    "\n",
    "            imgName1 = input('Enter image 1 name: ')\n",
    "            imgName2 = input('Enter image 2 name: ')\n",
    "            imgArr1 = ImageToArray(ReadImage(imgName1))\n",
    "            imgArr2 = ImageToArray(ReadImage(imgName2))\n",
    "            imgCombine = Combine(imgArr1, imgArr2)\n",
    "            Image.fromarray(imgCombine.astype(np.uint8)).save(f'{imgName.split(\".\")[0]}_combine.png')  \n",
    "\n",
    "            imgBlur = BoxBlur(imgArr)\n",
    "            Image.fromarray(imgBlur.astype(np.uint8)).save(f'{imgName.split(\".\")[0]}_blur.png')\n",
    "            print('Image is converted and saved successfully')\n",
    "\n",
    "            imgCircle = CircleFrame(imgArr)\n",
    "            Image.fromarray(imgCircle.astype(np.uint8)).save(f'{imgName.split(\".\")[0]}_circle.png')\n",
    "            print('Image is converted and saved successfully')\n",
    "\n",
    "            imgEclipse = EclipseFrame(imgArr)\n",
    "            Image.fromarray(imgEclipse.astype(np.uint8)).save(f'{imgName.split(\".\")[0]}_eclipse.png')\n",
    "            print('Image is converted and saved successfully')\n",
    "\n",
    "\n",
    "        # Brightness change\n",
    "        elif(choose==1):\n",
    "            imgBrightness = Brightness(imgArr, 50)\n",
    "            Image.fromarray(imgBrightness.astype(np.uint8)).save(f'{imgName.split(\".\")[0]}_bright.png')\n",
    "            print('Image is converted and saved successfully')\n",
    "\n",
    "        # Contrast change\n",
    "        elif(choose==2):\n",
    "            imgContrast = Contrast(imgArr, 50)\n",
    "            Image.fromarray(imgContrast.astype(np.uint8)).save(f'{imgName.split(\".\")[0]}_contrast.png')\n",
    "            print('Image is converted and saved successfully')\n",
    "\n",
    "        # Gray scale\n",
    "        elif(choose==3):\n",
    "            imgGrayScale = GrayScale(imgArr,1)\n",
    "            Image.fromarray(imgGrayScale.astype(np.uint8)).save(f'{imgName.split(\".\")[0]}_gray.png')        \n",
    "            print('Image is converted and saved successfully')\n",
    "\n",
    "        # Flip\n",
    "        elif(choose==4):\n",
    "            while True:\n",
    "                mode = int(input('Input mode ( 1.Horizontal, 2.Vertial ): '))\n",
    "                if(mode==1 or mode==2): break\n",
    "            imgFlip = Flip(imgArr, mode)\n",
    "            Image.fromarray(imgFlip.astype(np.uint8)).save(f'{imgName.split(\".\")[0]}_flip.png')\n",
    "            print('Image is converted and saved successfully')\n",
    "\n",
    "        # Combine two image\n",
    "        elif(choose==5):\n",
    "            # Input \n",
    "            imgName1 = input('Enter image 1 name: ')\n",
    "            imgName2 = input('Enter image 2 name: ')\n",
    "            # Read image\n",
    "            imgArr1 = ImageToArray(ReadImage(imgName1))\n",
    "            imgArr2 = ImageToArray(ReadImage(imgName2))\n",
    "\n",
    "            imgCombine = Combine(imgArr1, imgArr2)\n",
    "            Image.fromarray(imgCombine.astype(np.uint8)).save(f'{imgName.split(\".\")[0]}_combine.png')  \n",
    "            print('Image is converted and saved successfully')\n",
    "\n",
    "        # Blur\n",
    "        elif(choose==6):\n",
    "            imgBlur = BoxBlur(imgArr)\n",
    "            Image.fromarray(imgBlur.astype(np.uint8)).save(f'{imgName.split(\".\")[0]}_blur.png')\n",
    "            print('Image is converted and saved successfully')\n",
    "\n",
    "        elif(choose==7):\n",
    "            imgCircle = CircleFrame(imgArr)\n",
    "            Image.fromarray(imgCircle.astype(np.uint8)).save(f'{imgName.split(\".\")[0]}_circle.png')\n",
    "            print('Image is converted and saved successfully')\n",
    "\n",
    "        elif(choose==8):\n",
    "            imgEclipse = EclipseFrame(imgArr)\n",
    "            Image.fromarray(imgEclipse.astype(np.uint8)).save(f'{imgName.split(\".\")[0]}_eclipse.png')\n",
    "            print('Image is converted and saved successfully')\n",
    "\n",
    "        #Exit\n",
    "        else: break\n",
    "\n",
    "\n",
    "main()"
   ]
  }
 ],
 "metadata": {
  "kernelspec": {
   "display_name": "Python 3.9.6 64-bit",
   "language": "python",
   "name": "python3"
  },
  "language_info": {
   "codemirror_mode": {
    "name": "ipython",
    "version": 3
   },
   "file_extension": ".py",
   "mimetype": "text/x-python",
   "name": "python",
   "nbconvert_exporter": "python",
   "pygments_lexer": "ipython3",
   "version": "3.9.6"
  },
  "orig_nbformat": 4,
  "vscode": {
   "interpreter": {
    "hash": "806e041c8368604c61710fdad69ffc52f8e3336f557473aef3c1b1f40ad11919"
   }
  }
 },
 "nbformat": 4,
 "nbformat_minor": 2
}
